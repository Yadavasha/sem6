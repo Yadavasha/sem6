{
 "cells": [
  {
   "cell_type": "code",
   "execution_count": 1,
   "metadata": {},
   "outputs": [],
   "source": [
    "from pprint import pprint as print\n",
    "import matplotlib.pyplot as plt"
   ]
  },
  {
   "cell_type": "markdown",
   "metadata": {},
   "source": [
    "### i) Reading Data"
   ]
  },
  {
   "cell_type": "code",
   "execution_count": 2,
   "metadata": {},
   "outputs": [
    {
     "name": "stdout",
     "output_type": "stream",
     "text": [
      "[['21', 'adult', '6', 'single', '-1'],\n",
      " ['2', 'child', '3', 'married', '0'],\n",
      " ['18', 'adult', '5.7', 'married', '20'],\n",
      " ['221', 'elderly', '5', 'widow', '2'],\n",
      " ['34', 'child', '-7', 'married', '3']]\n"
     ]
    }
   ],
   "source": [
    "lines = open('people.txt.csv').readlines()[1:]\n",
    "table = [i.strip().split(',') for i in lines]\n",
    "\n",
    "print(table)"
   ]
  },
  {
   "cell_type": "markdown",
   "metadata": {},
   "source": [
    "### ii) Create a ruleset E that contains rules to check:\n",
    "\n",
    "1. 0<age<150\n",
    "<br>\n",
    "2. age > years_married\n",
    "<br>\n",
    "3. status $\\epsilon$ {\"single\", \"married\", \"widow\"}\n",
    "<br>\n",
    "4. age<18       agegroup=\"child\" <br>\n",
    "   18<=age<65   agegroup=\"adult\" <br>\n",
    "   65<=age      agegroup=\"elderly\""
   ]
  },
  {
   "cell_type": "code",
   "execution_count": 3,
   "metadata": {},
   "outputs": [],
   "source": [
    "def rule4(row):\n",
    "    age, agegroup = int(row[0]), row[1]\n",
    "    \n",
    "    if age<18 and agegroup==\"child\":\n",
    "        return True\n",
    "    if age>=18 and age<65 and agegroup==\"adult\":\n",
    "        return True\n",
    "    if age>=65 and agegroup==\"elderly\":\n",
    "        return True\n",
    "    return False\n",
    "\n",
    "rules = [ lambda x: True if int(x[0])>0 and int(x[0])<150 else False, # 0<Age<150\n",
    "          lambda x: True if x[0]>x[4] else False,                      # Age > Years_married\n",
    "          lambda x: True if x[3] in [\"single\", \"married\", \"widow\"] else False,\n",
    "          rule4\n",
    "        ]"
   ]
  },
  {
   "cell_type": "markdown",
   "metadata": {},
   "source": [
    "### iii) Checking Rule Voilation"
   ]
  },
  {
   "cell_type": "code",
   "execution_count": 4,
   "metadata": {},
   "outputs": [
    {
     "name": "stdout",
     "output_type": "stream",
     "text": [
      "[1, 1, 0, 1, 0]\n"
     ]
    }
   ],
   "source": [
    "rules_voilation_count = [0 for i in range(5)]\n",
    "\n",
    "for index, rule in enumerate(rules):\n",
    "    for row in table:\n",
    "        \n",
    "        if not rule(row):\n",
    "            rules_voilation_count[index] += 1\n",
    "\n",
    "print(rules_voilation_count)"
   ]
  },
  {
   "cell_type": "markdown",
   "metadata": {},
   "source": [
    "### iv) and v) Summary and Visualization"
   ]
  },
  {
   "cell_type": "code",
   "execution_count": 5,
   "metadata": {},
   "outputs": [
    {
     "data": {
      "image/png": "[encoded data removed]",
      "text/plain": [
       "<matplotlib.figure.Figure at 0x7f1678308d30>"
      ]
     },
     "metadata": {},
     "output_type": "display_data"
    }
   ],
   "source": [
    "x = list(range(1,6))\n",
    "y = rules_voilation_count\n",
    "\n",
    "\n",
    "plt.bar(x,y)\n",
    "\n",
    "plt.xlabel(\"Rules\")\n",
    "plt.ylabel(\"Voilation Count\");"
   ]
  }
 ],
 "metadata": {
  "kernelspec": {
   "display_name": "Python 3",
   "language": "python",
   "name": "python3"
  },
  "language_info": {
   "codemirror_mode": {
    "name": "ipython",
    "version": 3
   },
   "file_extension": ".py",
   "mimetype": "text/x-python",
   "name": "python",
   "nbconvert_exporter": "python",
   "pygments_lexer": "ipython3",
   "version": "3.6.4"
  }
 },
 "nbformat": 4,
 "nbformat_minor": 2
}
