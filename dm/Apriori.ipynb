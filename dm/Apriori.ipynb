{
 "cells": [
  {
   "cell_type": "code",
   "execution_count": 1,
   "metadata": {},
   "outputs": [],
   "source": [
    "import pandas as pd\n",
    "from apyori import apriori"
   ]
  },
  {
   "cell_type": "code",
   "execution_count": 4,
   "metadata": {},
   "outputs": [],
   "source": [
    "item_set = [['A','B'],\n",
    "            ['A','B','C'],\n",
    "            ['A','C'],\n",
    "            ['A','C','D'],\n",
    "            ['A']]"
   ]
  },
  {
   "cell_type": "code",
   "execution_count": 5,
   "metadata": {},
   "outputs": [
    {
     "name": "stdout",
     "output_type": "stream",
     "text": [
      "[RelationRecord(items=frozenset({'A'}), support=1.0, ordered_statistics=[OrderedStatistic(items_base=frozenset(), items_add=frozenset({'A'}), confidence=1.0, lift=1.0)]), RelationRecord(items=frozenset({'B'}), support=0.4, ordered_statistics=[OrderedStatistic(items_base=frozenset(), items_add=frozenset({'B'}), confidence=0.4, lift=1.0)]), RelationRecord(items=frozenset({'C'}), support=0.6, ordered_statistics=[OrderedStatistic(items_base=frozenset(), items_add=frozenset({'C'}), confidence=0.6, lift=1.0)]), RelationRecord(items=frozenset({'D'}), support=0.2, ordered_statistics=[OrderedStatistic(items_base=frozenset(), items_add=frozenset({'D'}), confidence=0.2, lift=1.0)]), RelationRecord(items=frozenset({'B', 'A'}), support=0.4, ordered_statistics=[OrderedStatistic(items_base=frozenset({'A'}), items_add=frozenset({'B'}), confidence=0.4, lift=1.0), OrderedStatistic(items_base=frozenset({'B'}), items_add=frozenset({'A'}), confidence=1.0, lift=1.0)]), RelationRecord(items=frozenset({'C', 'A'}), support=0.6, ordered_statistics=[OrderedStatistic(items_base=frozenset({'A'}), items_add=frozenset({'C'}), confidence=0.6, lift=1.0), OrderedStatistic(items_base=frozenset({'C'}), items_add=frozenset({'A'}), confidence=1.0, lift=1.0)]), RelationRecord(items=frozenset({'D', 'A'}), support=0.2, ordered_statistics=[OrderedStatistic(items_base=frozenset({'A'}), items_add=frozenset({'D'}), confidence=0.2, lift=1.0), OrderedStatistic(items_base=frozenset({'D'}), items_add=frozenset({'A'}), confidence=1.0, lift=1.0)]), RelationRecord(items=frozenset({'C', 'B'}), support=0.2, ordered_statistics=[OrderedStatistic(items_base=frozenset({'B'}), items_add=frozenset({'C'}), confidence=0.5, lift=0.8333333333333334), OrderedStatistic(items_base=frozenset({'C'}), items_add=frozenset({'B'}), confidence=0.33333333333333337, lift=0.8333333333333334)]), RelationRecord(items=frozenset({'D', 'C'}), support=0.2, ordered_statistics=[OrderedStatistic(items_base=frozenset({'C'}), items_add=frozenset({'D'}), confidence=0.33333333333333337, lift=1.6666666666666667), OrderedStatistic(items_base=frozenset({'D'}), items_add=frozenset({'C'}), confidence=1.0, lift=1.6666666666666667)]), RelationRecord(items=frozenset({'C', 'B', 'A'}), support=0.2, ordered_statistics=[OrderedStatistic(items_base=frozenset({'B', 'A'}), items_add=frozenset({'C'}), confidence=0.5, lift=0.8333333333333334), OrderedStatistic(items_base=frozenset({'C', 'A'}), items_add=frozenset({'B'}), confidence=0.33333333333333337, lift=0.8333333333333334), OrderedStatistic(items_base=frozenset({'C', 'B'}), items_add=frozenset({'A'}), confidence=1.0, lift=1.0)]), RelationRecord(items=frozenset({'D', 'C', 'A'}), support=0.2, ordered_statistics=[OrderedStatistic(items_base=frozenset({'C', 'A'}), items_add=frozenset({'D'}), confidence=0.33333333333333337, lift=1.6666666666666667), OrderedStatistic(items_base=frozenset({'D', 'A'}), items_add=frozenset({'C'}), confidence=1.0, lift=1.6666666666666667), OrderedStatistic(items_base=frozenset({'D', 'C'}), items_add=frozenset({'A'}), confidence=1.0, lift=1.0)])]\n"
     ]
    }
   ],
   "source": [
    "# min_support = 0.5 , min_confidence=0.5\n",
    "print(list(apriori(item_set)))"
   ]
  },
  {
   "cell_type": "code",
   "execution_count": 6,
   "metadata": {},
   "outputs": [
    {
     "name": "stdout",
     "output_type": "stream",
     "text": [
      "[RelationRecord(items=frozenset({'A'}), support=1.0, ordered_statistics=[OrderedStatistic(items_base=frozenset(), items_add=frozenset({'A'}), confidence=1.0, lift=1.0)])]\n"
     ]
    }
   ],
   "source": [
    "# min_support = 0.66 , min_confidence=0.66\n",
    "print(list(apriori(item_set,min_support = 0.66 , min_confidence=0.66)))"
   ]
  },
  {
   "cell_type": "code",
   "execution_count": null,
   "metadata": {
    "collapsed": true
   },
   "outputs": [],
   "source": []
  }
 ],
 "metadata": {
  "kernelspec": {
   "display_name": "Python 3",
   "language": "python",
   "name": "python3"
  },
  "language_info": {
   "codemirror_mode": {
    "name": "ipython",
    "version": 3
   },
   "file_extension": ".py",
   "mimetype": "text/x-python",
   "name": "python",
   "nbconvert_exporter": "python",
   "pygments_lexer": "ipython3",
   "version": "3.6.3"
  }
 },
 "nbformat": 4,
 "nbformat_minor": 2
}
